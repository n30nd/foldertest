{
 "cells": [
  {
   "cell_type": "code",
   "execution_count": 2,
   "metadata": {},
   "outputs": [],
   "source": [
    "import pickle\n"
   ]
  },
  {
   "cell_type": "code",
   "execution_count": 5,
   "metadata": {},
   "outputs": [],
   "source": [
    "with open(\"outputs/2024-11-05/16-21-13/results.pkl\", \"rb\") as f:\n",
    "    model = pickle.load(f)"
   ]
  },
  {
   "cell_type": "code",
   "execution_count": 6,
   "metadata": {},
   "outputs": [
    {
     "data": {
      "text/plain": [
       "{'history': History (loss, distributed):\n",
       " \tround 1: 0.16108575953170656\n",
       " \tround 2: 0.16778277456760407\n",
       " History (loss, centralized):\n",
       " \tround 0: 0.021797289450963337\n",
       " \tround 1: 0.04201869223004159\n",
       " \tround 2: 0.02193317065636317\n",
       " History (metrics, distributed, evaluate):\n",
       " {'federated_evaluate_accuracy': [(1, 0.8), (2, 0.74)]}\n",
       " History (metrics, centralized):\n",
       " {'accuracy': [(0, 0.625), (1, 0.625), (2, 0.7564102564102564)]},\n",
       " 'rounds_centralized': [0, 1, 2],\n",
       " 'accuracy_centralized_list': [0.625, 0.625, 0.7564102564102564],\n",
       " 'rounds_distributed': [1, 2],\n",
       " 'accuracy_distributed_list': [0.8, 0.74],\n",
       " 'acc_val_CT': [0.7228915662650602, 0.9156626506024096],\n",
       " 'acc_test_CT': [0.625, 0.7516025641025641]}"
      ]
     },
     "execution_count": 6,
     "metadata": {},
     "output_type": "execute_result"
    }
   ],
   "source": [
    "model"
   ]
  }
 ],
 "metadata": {
  "kernelspec": {
   "display_name": "env1",
   "language": "python",
   "name": "python3"
  },
  "language_info": {
   "codemirror_mode": {
    "name": "ipython",
    "version": 3
   },
   "file_extension": ".py",
   "mimetype": "text/x-python",
   "name": "python",
   "nbconvert_exporter": "python",
   "pygments_lexer": "ipython3",
   "version": "3.9.20"
  }
 },
 "nbformat": 4,
 "nbformat_minor": 2
}
